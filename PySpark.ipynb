{
  "nbformat": 4,
  "nbformat_minor": 0,
  "metadata": {
    "kernelspec": {
      "display_name": "Python 3",
      "language": "python",
      "name": "python3"
    },
    "language_info": {
      "codemirror_mode": {
        "name": "ipython",
        "version": 3
      },
      "file_extension": ".py",
      "mimetype": "text/x-python",
      "name": "python",
      "nbconvert_exporter": "python",
      "pygments_lexer": "ipython3",
      "version": "3.8.3"
    },
    "colab": {
      "name": "PySpark.ipynb",
      "provenance": [],
      "include_colab_link": true
    }
  },
  "cells": [
    {
      "cell_type": "markdown",
      "metadata": {
        "id": "view-in-github",
        "colab_type": "text"
      },
      "source": [
        "<a href=\"https://colab.research.google.com/github/SatLight/Airline-Delay-Prediction-using-Spark-and-Kylin/blob/main/PySpark.ipynb\" target=\"_parent\"><img src=\"https://colab.research.google.com/assets/colab-badge.svg\" alt=\"Open In Colab\"/></a>"
      ]
    },
    {
      "cell_type": "code",
      "metadata": {
        "id": "-fl4Gyr4kebf"
      },
      "source": [
        "import findspark\n",
        "findspark.init()\n",
        "import pyspark\n",
        "\n",
        "from pyspark import SparkConf\n",
        "from pyspark import SparkContext\n",
        "from pyspark import HiveContext\n",
        "from pyspark.sql import SparkSession\n",
        "from pyspark.sql.functions import *\n",
        "import pyspark.sql.functions as F\n",
        "from pyspark.sql.types import StringType, DoubleType\n",
        "from pyspark.sql.functions import udf\n",
        "from pyspark.ml.classification import DecisionTreeClassifier\n",
        "from pyspark.ml.feature import StandardScaler\n",
        "from pyspark.ml import Pipeline\n",
        "from pyspark.ml.feature import StringIndexer, VectorIndexer\n",
        "from pyspark.ml.evaluation import MulticlassClassificationEvaluator\n",
        "from pyspark.ml.feature import VectorAssembler"
      ],
      "execution_count": null,
      "outputs": []
    },
    {
      "cell_type": "code",
      "metadata": {
        "id": "iIUP-Qrxkebl"
      },
      "source": [
        "spark = SparkSession \\\n",
        "    .builder \\\n",
        "    .appName(\"Decision Tree\") \\\n",
        "    .getOrCreate()"
      ],
      "execution_count": null,
      "outputs": []
    },
    {
      "cell_type": "code",
      "metadata": {
        "id": "QEBxdj7skebm"
      },
      "source": [
        "df = spark.read.option(\"header\", True).csv(\"file:///home/sanjithsjadhav/programming/java/sem5/hadoop/project/2016.csv\")"
      ],
      "execution_count": null,
      "outputs": []
    },
    {
      "cell_type": "code",
      "metadata": {
        "id": "a18bDOqKkebm"
      },
      "source": [
        "df.count()"
      ],
      "execution_count": null,
      "outputs": []
    },
    {
      "cell_type": "code",
      "metadata": {
        "id": "xqusknzBkebm"
      },
      "source": [
        "df.printSchema()"
      ],
      "execution_count": null,
      "outputs": []
    },
    {
      "cell_type": "code",
      "metadata": {
        "id": "PN9o3psWkebm"
      },
      "source": [
        "#  OP_CARRIER_FL_NUM  DISTANCE    ACTUAL_ELAPSED_TIME\n",
        "columns_to_drop = ['OP_CARRIER','TAXI_OUT','CRS_ELAPSED_TIME','DEP_TIME','WHEELS_OFF',\n",
        "             'AIR_TIME','WHEELS_ON','TAXI_IN','ARR_TIME','CANCELLATION_CODE']\n",
        "df = df.drop(*columns_to_drop)\n",
        "# len(columns_to_drop)"
      ],
      "execution_count": null,
      "outputs": []
    },
    {
      "cell_type": "code",
      "metadata": {
        "id": "2ut7bedZkebn"
      },
      "source": [
        "len(df.columns)"
      ],
      "execution_count": null,
      "outputs": []
    },
    {
      "cell_type": "code",
      "metadata": {
        "id": "iAiW6O69kebn"
      },
      "source": [
        "df = df.drop(df.columns[17])"
      ],
      "execution_count": null,
      "outputs": []
    },
    {
      "cell_type": "code",
      "metadata": {
        "id": "VHGCSjehkebn"
      },
      "source": [
        "df.printSchema()"
      ],
      "execution_count": null,
      "outputs": []
    },
    {
      "cell_type": "code",
      "metadata": {
        "id": "bNLKWIH4kebn"
      },
      "source": [
        "len(df.columns)"
      ],
      "execution_count": null,
      "outputs": []
    },
    {
      "cell_type": "code",
      "metadata": {
        "id": "u4MjY-W6kebn"
      },
      "source": [
        "# df.select([count(when(isnan(c), c)).alias(c) for c in df.columns]).show()\n",
        "df.select([count(when(isnan(c) | col(c).isNull() , True)) for c in df.columns]).show()"
      ],
      "execution_count": null,
      "outputs": []
    },
    {
      "cell_type": "code",
      "metadata": {
        "id": "xIko686Zkebo"
      },
      "source": [
        "columns_with_nas = ['DEP_DELAY', 'ARR_DELAY', 'CARRIER_DELAY', 'WEATHER_DELAY', 'NAS_DELAY', 'SECURITY_DELAY', 'LATE_AIRCRAFT_DELAY', 'ACTUAL_ELAPSED_TIME']\n",
        "removeAllDF = df.na.drop()\n",
        "for x in columns_with_nas:\n",
        "    meanValue = removeAllDF.agg(avg(x)).first()[0]\n",
        "#     print(x, meanValue)\n",
        "    df= df.na.fill({x : meanValue})"
      ],
      "execution_count": null,
      "outputs": []
    },
    {
      "cell_type": "code",
      "metadata": {
        "id": "yFdaxZnfkebo"
      },
      "source": [
        "df = df.withColumn('RESULT', df.ARR_DELAY>15)"
      ],
      "execution_count": null,
      "outputs": []
    },
    {
      "cell_type": "code",
      "metadata": {
        "id": "AWytFdrskebo"
      },
      "source": [
        "df.head(5)"
      ],
      "execution_count": null,
      "outputs": []
    },
    {
      "cell_type": "code",
      "metadata": {
        "id": "xDMCf__Kkebo"
      },
      "source": [
        "test = df.select([col(c).cast(\"integer\") for c in [\"RESULT\"]])\n",
        "# df = df.withColumn('result', test['RESULT'])\n",
        "df = df.withColumn( \"RESULT\" , F.when( F.col(\"RESULT\") , F.lit(1) ).otherwise(0) )"
      ],
      "execution_count": null,
      "outputs": []
    },
    {
      "cell_type": "code",
      "metadata": {
        "id": "4H_WUx7Ykebo"
      },
      "source": [
        "df.head(5)"
      ],
      "execution_count": null,
      "outputs": []
    },
    {
      "cell_type": "code",
      "metadata": {
        "id": "EmVigUKGkebp"
      },
      "source": [
        "# df.select([count(when(isnan(df.ARR_DELAY) | col(df.ARR_DELAY).isNull() , True))]).show()\n",
        "list(map(lambda c : (c,df.filter(df[c].isNull()).count()), columns_with_nas))"
      ],
      "execution_count": null,
      "outputs": []
    },
    {
      "cell_type": "code",
      "metadata": {
        "id": "HiO5epXkkebp"
      },
      "source": [
        "list(map(lambda c : (c,removeAllDF.filter(removeAllDF[c].isNull()).count()), columns_with_nas))"
      ],
      "execution_count": null,
      "outputs": []
    },
    {
      "cell_type": "code",
      "metadata": {
        "id": "EiZ1rwHRkebp"
      },
      "source": [
        "df.groupBy('RESULT').count().show()"
      ],
      "execution_count": null,
      "outputs": []
    },
    {
      "cell_type": "code",
      "metadata": {
        "id": "YHVnrVLUkebp",
        "outputId": "81dfaac9-52df-4b05-8875-51493a80ff4b"
      },
      "source": [
        "indexes = ['ORIGIN','DEST','ARR_DELAY','FL_DATE']\n",
        "# df = df.drop(*columns_to_drop)\n",
        "labelIndexer = [StringIndexer(inputCol=column, outputCol=column+'_index').fit(df) for column in indexes]\n",
        "labelIndexer"
      ],
      "execution_count": null,
      "outputs": [
        {
          "output_type": "execute_result",
          "data": {
            "text/plain": [
              "[StringIndexerModel: uid=StringIndexer_39f2214a345e, handleInvalid=error,\n",
              " StringIndexerModel: uid=StringIndexer_987cfdcd3ab5, handleInvalid=error,\n",
              " StringIndexerModel: uid=StringIndexer_d8922b18fa5e, handleInvalid=error,\n",
              " StringIndexerModel: uid=StringIndexer_08059f6ef9f0, handleInvalid=error]"
            ]
          },
          "metadata": {
            "tags": []
          },
          "execution_count": 14
        }
      ]
    },
    {
      "cell_type": "code",
      "metadata": {
        "id": "kSvnNWozkebq",
        "outputId": "d45066a0-4d8e-461a-f8d5-10dc2bbca1fc"
      },
      "source": [
        "df.columns"
      ],
      "execution_count": null,
      "outputs": [
        {
          "output_type": "execute_result",
          "data": {
            "text/plain": [
              "['FL_DATE',\n",
              " 'OP_CARRIER_FL_NUM',\n",
              " 'ORIGIN',\n",
              " 'DEST',\n",
              " 'CRS_DEP_TIME',\n",
              " 'DEP_DELAY',\n",
              " 'CRS_ARR_TIME',\n",
              " 'ARR_DELAY',\n",
              " 'CANCELLED',\n",
              " 'DIVERTED',\n",
              " 'ACTUAL_ELAPSED_TIME',\n",
              " 'DISTANCE',\n",
              " 'CARRIER_DELAY',\n",
              " 'WEATHER_DELAY',\n",
              " 'NAS_DELAY',\n",
              " 'SECURITY_DELAY',\n",
              " 'LATE_AIRCRAFT_DELAY',\n",
              " 'RESULT']"
            ]
          },
          "metadata": {
            "tags": []
          },
          "execution_count": 19
        }
      ]
    },
    {
      "cell_type": "code",
      "metadata": {
        "id": "YPoeYRcXkebq"
      },
      "source": [
        "c = list(df.columns)[:-1]\n",
        "for cols in c[:1]+c[2:]:\n",
        "    df = df.withColumn(cols, df[cols].cast(DoubleType()))"
      ],
      "execution_count": null,
      "outputs": []
    },
    {
      "cell_type": "code",
      "metadata": {
        "id": "R30ZoSNRkebq",
        "outputId": "88eb3499-de7f-4d1c-fcba-871c2a9005f9"
      },
      "source": [
        "df.printSchema()"
      ],
      "execution_count": null,
      "outputs": [
        {
          "output_type": "stream",
          "text": [
            "root\n",
            " |-- OP_CARRIER_FL_NUM: double (nullable = true)\n",
            " |-- ORIGIN: string (nullable = true)\n",
            " |-- CRS_DEP_TIME: double (nullable = true)\n",
            " |-- DEP_DELAY: double (nullable = true)\n",
            " |-- CRS_ARR_TIME: double (nullable = true)\n",
            " |-- CANCELLED: double (nullable = true)\n",
            " |-- DIVERTED: double (nullable = true)\n",
            " |-- ACTUAL_ELAPSED_TIME: double (nullable = true)\n",
            " |-- DISTANCE: double (nullable = true)\n",
            " |-- CARRIER_DELAY: double (nullable = true)\n",
            " |-- WEATHER_DELAY: double (nullable = true)\n",
            " |-- NAS_DELAY: double (nullable = true)\n",
            " |-- SECURITY_DELAY: double (nullable = true)\n",
            " |-- LATE_AIRCRAFT_DELAY: double (nullable = true)\n",
            " |-- RESULT: integer (nullable = false)\n",
            "\n"
          ],
          "name": "stdout"
        }
      ]
    },
    {
      "cell_type": "code",
      "metadata": {
        "id": "btLdcXcIkebr"
      },
      "source": [
        "len(df.columns)"
      ],
      "execution_count": null,
      "outputs": []
    },
    {
      "cell_type": "code",
      "metadata": {
        "id": "gTX_biQtkebr",
        "outputId": "59ef9d36-1894-458b-cd62-488cb777e62b"
      },
      "source": [
        "cols = ['OP_CARRIER_FL_NUM','ACTUAL_ELAPSED_TIME','DISTANCE','CRS_DEP_TIME','DEP_DELAY','CRS_ARR_TIME','CANCELLED','DIVERTED','CARRIER_DELAY','WEATHER_DELAY','NAS_DELAY','SECURITY_DELAY','LATE_AIRCRAFT_DELAY']\n",
        "assembler = VectorAssembler(inputCols=cols,outputCol=\"features\")\n",
        "output = assembler.transform(df)\n",
        "output = output.drop(*cols)\n",
        "output.head(5)"
      ],
      "execution_count": null,
      "outputs": [
        {
          "output_type": "error",
          "ename": "IllegalArgumentException",
          "evalue": "Data type string of column OP_CARRIER_FL_NUM is not supported.",
          "traceback": [
            "\u001b[0;31m---------------------------------------------------------------------------\u001b[0m",
            "\u001b[0;31mIllegalArgumentException\u001b[0m                  Traceback (most recent call last)",
            "\u001b[0;32m<ipython-input-21-d3bd10f552f8>\u001b[0m in \u001b[0;36m<module>\u001b[0;34m\u001b[0m\n\u001b[1;32m      1\u001b[0m \u001b[0mcols\u001b[0m \u001b[0;34m=\u001b[0m \u001b[0;34m[\u001b[0m\u001b[0;34m'OP_CARRIER_FL_NUM'\u001b[0m\u001b[0;34m,\u001b[0m\u001b[0;34m'ACTUAL_ELAPSED_TIME'\u001b[0m\u001b[0;34m,\u001b[0m\u001b[0;34m'DISTANCE'\u001b[0m\u001b[0;34m,\u001b[0m\u001b[0;34m'CRS_DEP_TIME'\u001b[0m\u001b[0;34m,\u001b[0m\u001b[0;34m'DEP_DELAY'\u001b[0m\u001b[0;34m,\u001b[0m\u001b[0;34m'CRS_ARR_TIME'\u001b[0m\u001b[0;34m,\u001b[0m\u001b[0;34m'CANCELLED'\u001b[0m\u001b[0;34m,\u001b[0m\u001b[0;34m'DIVERTED'\u001b[0m\u001b[0;34m,\u001b[0m\u001b[0;34m'CARRIER_DELAY'\u001b[0m\u001b[0;34m,\u001b[0m\u001b[0;34m'WEATHER_DELAY'\u001b[0m\u001b[0;34m,\u001b[0m\u001b[0;34m'NAS_DELAY'\u001b[0m\u001b[0;34m,\u001b[0m\u001b[0;34m'SECURITY_DELAY'\u001b[0m\u001b[0;34m,\u001b[0m\u001b[0;34m'LATE_AIRCRAFT_DELAY'\u001b[0m\u001b[0;34m]\u001b[0m\u001b[0;34m\u001b[0m\u001b[0;34m\u001b[0m\u001b[0m\n\u001b[1;32m      2\u001b[0m \u001b[0massembler\u001b[0m \u001b[0;34m=\u001b[0m \u001b[0mVectorAssembler\u001b[0m\u001b[0;34m(\u001b[0m\u001b[0minputCols\u001b[0m\u001b[0;34m=\u001b[0m\u001b[0mcols\u001b[0m\u001b[0;34m,\u001b[0m\u001b[0moutputCol\u001b[0m\u001b[0;34m=\u001b[0m\u001b[0;34m\"features\"\u001b[0m\u001b[0;34m)\u001b[0m\u001b[0;34m\u001b[0m\u001b[0;34m\u001b[0m\u001b[0m\n\u001b[0;32m----> 3\u001b[0;31m \u001b[0moutput\u001b[0m \u001b[0;34m=\u001b[0m \u001b[0massembler\u001b[0m\u001b[0;34m.\u001b[0m\u001b[0mtransform\u001b[0m\u001b[0;34m(\u001b[0m\u001b[0mdf\u001b[0m\u001b[0;34m)\u001b[0m\u001b[0;34m\u001b[0m\u001b[0;34m\u001b[0m\u001b[0m\n\u001b[0m\u001b[1;32m      4\u001b[0m \u001b[0moutput\u001b[0m \u001b[0;34m=\u001b[0m \u001b[0moutput\u001b[0m\u001b[0;34m.\u001b[0m\u001b[0mdrop\u001b[0m\u001b[0;34m(\u001b[0m\u001b[0;34m*\u001b[0m\u001b[0mcols\u001b[0m\u001b[0;34m)\u001b[0m\u001b[0;34m\u001b[0m\u001b[0;34m\u001b[0m\u001b[0m\n\u001b[1;32m      5\u001b[0m \u001b[0moutput\u001b[0m\u001b[0;34m.\u001b[0m\u001b[0mhead\u001b[0m\u001b[0;34m(\u001b[0m\u001b[0;36m5\u001b[0m\u001b[0;34m)\u001b[0m\u001b[0;34m\u001b[0m\u001b[0;34m\u001b[0m\u001b[0m\n",
            "\u001b[0;32m~/programming/java/sem5/hadoop/hadoop-2.7.3/spark-3.0.1-bin-hadoop3.2/python/pyspark/ml/base.py\u001b[0m in \u001b[0;36mtransform\u001b[0;34m(self, dataset, params)\u001b[0m\n\u001b[1;32m    168\u001b[0m                 \u001b[0;32mreturn\u001b[0m \u001b[0mself\u001b[0m\u001b[0;34m.\u001b[0m\u001b[0mcopy\u001b[0m\u001b[0;34m(\u001b[0m\u001b[0mparams\u001b[0m\u001b[0;34m)\u001b[0m\u001b[0;34m.\u001b[0m\u001b[0m_transform\u001b[0m\u001b[0;34m(\u001b[0m\u001b[0mdataset\u001b[0m\u001b[0;34m)\u001b[0m\u001b[0;34m\u001b[0m\u001b[0;34m\u001b[0m\u001b[0m\n\u001b[1;32m    169\u001b[0m             \u001b[0;32melse\u001b[0m\u001b[0;34m:\u001b[0m\u001b[0;34m\u001b[0m\u001b[0;34m\u001b[0m\u001b[0m\n\u001b[0;32m--> 170\u001b[0;31m                 \u001b[0;32mreturn\u001b[0m \u001b[0mself\u001b[0m\u001b[0;34m.\u001b[0m\u001b[0m_transform\u001b[0m\u001b[0;34m(\u001b[0m\u001b[0mdataset\u001b[0m\u001b[0;34m)\u001b[0m\u001b[0;34m\u001b[0m\u001b[0;34m\u001b[0m\u001b[0m\n\u001b[0m\u001b[1;32m    171\u001b[0m         \u001b[0;32melse\u001b[0m\u001b[0;34m:\u001b[0m\u001b[0;34m\u001b[0m\u001b[0;34m\u001b[0m\u001b[0m\n\u001b[1;32m    172\u001b[0m             \u001b[0;32mraise\u001b[0m \u001b[0mValueError\u001b[0m\u001b[0;34m(\u001b[0m\u001b[0;34m\"Params must be a param map but got %s.\"\u001b[0m \u001b[0;34m%\u001b[0m \u001b[0mtype\u001b[0m\u001b[0;34m(\u001b[0m\u001b[0mparams\u001b[0m\u001b[0;34m)\u001b[0m\u001b[0;34m)\u001b[0m\u001b[0;34m\u001b[0m\u001b[0;34m\u001b[0m\u001b[0m\n",
            "\u001b[0;32m~/programming/java/sem5/hadoop/hadoop-2.7.3/spark-3.0.1-bin-hadoop3.2/python/pyspark/ml/wrapper.py\u001b[0m in \u001b[0;36m_transform\u001b[0;34m(self, dataset)\u001b[0m\n\u001b[1;32m    336\u001b[0m     \u001b[0;32mdef\u001b[0m \u001b[0m_transform\u001b[0m\u001b[0;34m(\u001b[0m\u001b[0mself\u001b[0m\u001b[0;34m,\u001b[0m \u001b[0mdataset\u001b[0m\u001b[0;34m)\u001b[0m\u001b[0;34m:\u001b[0m\u001b[0;34m\u001b[0m\u001b[0;34m\u001b[0m\u001b[0m\n\u001b[1;32m    337\u001b[0m         \u001b[0mself\u001b[0m\u001b[0;34m.\u001b[0m\u001b[0m_transfer_params_to_java\u001b[0m\u001b[0;34m(\u001b[0m\u001b[0;34m)\u001b[0m\u001b[0;34m\u001b[0m\u001b[0;34m\u001b[0m\u001b[0m\n\u001b[0;32m--> 338\u001b[0;31m         \u001b[0;32mreturn\u001b[0m \u001b[0mDataFrame\u001b[0m\u001b[0;34m(\u001b[0m\u001b[0mself\u001b[0m\u001b[0;34m.\u001b[0m\u001b[0m_java_obj\u001b[0m\u001b[0;34m.\u001b[0m\u001b[0mtransform\u001b[0m\u001b[0;34m(\u001b[0m\u001b[0mdataset\u001b[0m\u001b[0;34m.\u001b[0m\u001b[0m_jdf\u001b[0m\u001b[0;34m)\u001b[0m\u001b[0;34m,\u001b[0m \u001b[0mdataset\u001b[0m\u001b[0;34m.\u001b[0m\u001b[0msql_ctx\u001b[0m\u001b[0;34m)\u001b[0m\u001b[0;34m\u001b[0m\u001b[0;34m\u001b[0m\u001b[0m\n\u001b[0m\u001b[1;32m    339\u001b[0m \u001b[0;34m\u001b[0m\u001b[0m\n\u001b[1;32m    340\u001b[0m \u001b[0;34m\u001b[0m\u001b[0m\n",
            "\u001b[0;32m~/programming/java/sem5/hadoop/hadoop-2.7.3/spark-3.0.1-bin-hadoop3.2/python/lib/py4j-0.10.9-src.zip/py4j/java_gateway.py\u001b[0m in \u001b[0;36m__call__\u001b[0;34m(self, *args)\u001b[0m\n\u001b[1;32m   1302\u001b[0m \u001b[0;34m\u001b[0m\u001b[0m\n\u001b[1;32m   1303\u001b[0m         \u001b[0manswer\u001b[0m \u001b[0;34m=\u001b[0m \u001b[0mself\u001b[0m\u001b[0;34m.\u001b[0m\u001b[0mgateway_client\u001b[0m\u001b[0;34m.\u001b[0m\u001b[0msend_command\u001b[0m\u001b[0;34m(\u001b[0m\u001b[0mcommand\u001b[0m\u001b[0;34m)\u001b[0m\u001b[0;34m\u001b[0m\u001b[0;34m\u001b[0m\u001b[0m\n\u001b[0;32m-> 1304\u001b[0;31m         return_value = get_return_value(\n\u001b[0m\u001b[1;32m   1305\u001b[0m             answer, self.gateway_client, self.target_id, self.name)\n\u001b[1;32m   1306\u001b[0m \u001b[0;34m\u001b[0m\u001b[0m\n",
            "\u001b[0;32m~/programming/java/sem5/hadoop/hadoop-2.7.3/spark-3.0.1-bin-hadoop3.2/python/pyspark/sql/utils.py\u001b[0m in \u001b[0;36mdeco\u001b[0;34m(*a, **kw)\u001b[0m\n\u001b[1;32m    132\u001b[0m                 \u001b[0;31m# Hide where the exception came from that shows a non-Pythonic\u001b[0m\u001b[0;34m\u001b[0m\u001b[0;34m\u001b[0m\u001b[0;34m\u001b[0m\u001b[0m\n\u001b[1;32m    133\u001b[0m                 \u001b[0;31m# JVM exception message.\u001b[0m\u001b[0;34m\u001b[0m\u001b[0;34m\u001b[0m\u001b[0;34m\u001b[0m\u001b[0m\n\u001b[0;32m--> 134\u001b[0;31m                 \u001b[0mraise_from\u001b[0m\u001b[0;34m(\u001b[0m\u001b[0mconverted\u001b[0m\u001b[0;34m)\u001b[0m\u001b[0;34m\u001b[0m\u001b[0;34m\u001b[0m\u001b[0m\n\u001b[0m\u001b[1;32m    135\u001b[0m             \u001b[0;32melse\u001b[0m\u001b[0;34m:\u001b[0m\u001b[0;34m\u001b[0m\u001b[0;34m\u001b[0m\u001b[0m\n\u001b[1;32m    136\u001b[0m                 \u001b[0;32mraise\u001b[0m\u001b[0;34m\u001b[0m\u001b[0;34m\u001b[0m\u001b[0m\n",
            "\u001b[0;32m~/programming/java/sem5/hadoop/hadoop-2.7.3/spark-3.0.1-bin-hadoop3.2/python/pyspark/sql/utils.py\u001b[0m in \u001b[0;36mraise_from\u001b[0;34m(e)\u001b[0m\n",
            "\u001b[0;31mIllegalArgumentException\u001b[0m: Data type string of column OP_CARRIER_FL_NUM is not supported."
          ]
        }
      ]
    },
    {
      "cell_type": "code",
      "metadata": {
        "id": "9083mok9kebr",
        "outputId": "e9a87596-4bd8-4de2-c561-30cd849a363d"
      },
      "source": [
        "scaler = StandardScaler(inputCol=\"features\", outputCol=\"scaled_features\")\n",
        "scalerModel = scaler.fit(output)\n",
        "output = scalerModel.transform(output)\n",
        "output = output.drop('features')\n",
        "output.head(5)"
      ],
      "execution_count": null,
      "outputs": [
        {
          "output_type": "execute_result",
          "data": {
            "text/plain": [
              "[Row(ORIGIN='DTW', RESULT=0, scaled_features=DenseVector([0.7339, 3.7928, 3.1945, 3.9523, 0.0, 4.1527, 0.0, 0.0, 0.8527, 0.3049, 1.1598, 0.0848, 1.2776])),\n",
              " Row(ORIGIN='ATL', RESULT=0, scaled_features=DenseVector([0.7357, 1.4506, 1.0331, 4.3404, 0.1254, 4.4956, 0.0, 0.0, 0.8527, 0.3049, 1.1598, 0.0848, 1.2776])),\n",
              " Row(ORIGIN='LAX', RESULT=0, scaled_features=DenseVector([0.7375, 3.0742, 3.1429, 4.6059, 0.0251, 1.1621, 0.0, 0.0, 0.8527, 0.3049, 1.1598, 0.0848, 1.2776])),\n",
              " Row(ORIGIN='SLC', RESULT=0, scaled_features=DenseVector([0.7381, 2.5685, 2.5666, 3.3825, 0.1003, 4.3174, 0.0, 0.0, 0.8527, 0.3049, 1.1598, 0.0848, 1.2776])),\n",
              " Row(ORIGIN='BZN', RESULT=1, scaled_features=DenseVector([0.7386, 2.5019, 1.4108, 1.8383, 1.8055, 2.3553, 0.0, 0.0, 3.0308, 0.0, 4.1039, 0.0, 0.0]))]"
            ]
          },
          "metadata": {
            "tags": []
          },
          "execution_count": 17
        }
      ]
    },
    {
      "cell_type": "code",
      "metadata": {
        "id": "-Ttwq0W5kebr"
      },
      "source": [
        "dt = DecisionTreeClassifier(labelCol=\"RESULT\", featuresCol=\"scaled_features\")"
      ],
      "execution_count": null,
      "outputs": []
    },
    {
      "cell_type": "code",
      "metadata": {
        "id": "uzJ-g_Kpkebr"
      },
      "source": [
        "pipeline = Pipeline(stages=[labelIndexer,dt])"
      ],
      "execution_count": null,
      "outputs": []
    },
    {
      "cell_type": "code",
      "metadata": {
        "id": "NA_xetGrkebs"
      },
      "source": [
        "test, train = output.randomSplit([0.7, 0.3])"
      ],
      "execution_count": null,
      "outputs": []
    },
    {
      "cell_type": "code",
      "metadata": {
        "id": "MNew0Sbwkebs"
      },
      "source": [
        "model = pipeline.fit(train)"
      ],
      "execution_count": null,
      "outputs": []
    },
    {
      "cell_type": "code",
      "metadata": {
        "id": "03hOYmUdkebs"
      },
      "source": [
        "predictions = model.transform(test)"
      ],
      "execution_count": null,
      "outputs": []
    },
    {
      "cell_type": "code",
      "metadata": {
        "id": "8MW_DuPNkebs"
      },
      "source": [
        "predictions.select(\"prediction\", \"RESULT\", \"scaled_features\").show(5)"
      ],
      "execution_count": null,
      "outputs": []
    },
    {
      "cell_type": "code",
      "metadata": {
        "id": "henT0Y99kebs"
      },
      "source": [
        "evaluator = MulticlassClassificationEvaluator(\n",
        "    labelCol=\"RESULT\", predictionCol=\"prediction\", metricName=\"accuracy\")"
      ],
      "execution_count": null,
      "outputs": []
    },
    {
      "cell_type": "code",
      "metadata": {
        "id": "TK9pdvQEkebt",
        "outputId": "a56f89d7-f23f-43c5-91df-6a54af265f34"
      },
      "source": [
        "accuracy = evaluator.evaluate(predictions)\n",
        "accuracy"
      ],
      "execution_count": null,
      "outputs": [
        {
          "output_type": "execute_result",
          "data": {
            "text/plain": [
              "0.9955288147850174"
            ]
          },
          "metadata": {
            "tags": []
          },
          "execution_count": 24
        }
      ]
    },
    {
      "cell_type": "code",
      "metadata": {
        "id": "zPKCvI3kkebt"
      },
      "source": [
        "treeModel = model.stages[0]\n",
        "treeModel"
      ],
      "execution_count": null,
      "outputs": []
    },
    {
      "cell_type": "code",
      "metadata": {
        "id": "jTLr5nT4kebt"
      },
      "source": [
        "t = test.select([col(c).cast(\"integer\") for c in [\"RESULT\"]])"
      ],
      "execution_count": null,
      "outputs": []
    },
    {
      "cell_type": "code",
      "metadata": {
        "id": "Fr22N3QBkebt"
      },
      "source": [
        "test.head(5)"
      ],
      "execution_count": null,
      "outputs": []
    },
    {
      "cell_type": "code",
      "metadata": {
        "id": "wx8NgA_Fkebt"
      },
      "source": [
        "output = output.withColumn('RESULT', t.RESULT)"
      ],
      "execution_count": null,
      "outputs": []
    },
    {
      "cell_type": "code",
      "metadata": {
        "id": "frgdPkBKkebt"
      },
      "source": [
        "output.head(10)"
      ],
      "execution_count": null,
      "outputs": []
    },
    {
      "cell_type": "code",
      "metadata": {
        "id": "TTGfGulVkebu"
      },
      "source": [
        ""
      ],
      "execution_count": null,
      "outputs": []
    }
  ]
}